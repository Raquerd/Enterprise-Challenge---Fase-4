{
 "cells": [
  {
   "cell_type": "code",
   "execution_count": null,
   "id": "9ebde3a4",
   "metadata": {},
   "outputs": [],
   "source": [
    "import pandas as pd, matplotlib.pyplot as plt, seaborn as sns, joblib\n",
    "from sklearn.model_selection import train_test_split\n",
    "from sklearn.svm import SVC\n",
    "from sklearn.ensemble import RandomForestClassifier\n",
    "from sklearn.metrics import accuracy_score, confusion_matrix, classification_report\n",
    "\n"
   ]
  },
  {
   "cell_type": "code",
   "execution_count": null,
   "id": "ae0eeeae",
   "metadata": {},
   "outputs": [],
   "source": [
    "path = r\"C:\\Users\\Davi\\Documents\\Projetos\\FIAP\\FASE 5\\Enterprise_Challenge_FASE3\\config\\Dados_simulados.csv\"\n",
    "df = pd.read_csv(path, sep=';')\n",
    "df[['vl_temperatura', 'vl_corrente']] = df[['vl_temperatura', 'vl_corrente']].round(2)\n",
    "df['vl_vibracao'] = df['vl_vibracao'].astype(int)\n",
    "display(df)"
   ]
  },
  {
   "cell_type": "code",
   "execution_count": null,
   "id": "20d15dcd",
   "metadata": {},
   "outputs": [],
   "source": [
    "def classificar_risco_temp(temperatura):\n",
    "    if temperatura < 85:\n",
    "        return 'Normal'\n",
    "    elif 85 <= temperatura < 95:\n",
    "        return 'Atencao'\n",
    "    else:\n",
    "        return 'Risco Iminente'\n",
    "\n",
    "def classificar_risco_corrente(corrente):\n",
    "    if corrente <= 152:\n",
    "        return 'Normal'\n",
    "    elif corrente < 155:\n",
    "        return 'Atencao'\n",
    "    else:\n",
    "        return 'Risco Iminente'\n",
    "\n",
    "def classificar_risco_vibracao(vibracao):\n",
    "    if vibracao <= 6:\n",
    "        return 'Normal'\n",
    "    elif vibracao < 9:\n",
    "        return 'Atencao'\n",
    "    else:\n",
    "        return 'Risco Iminente'"
   ]
  },
  {
   "cell_type": "code",
   "execution_count": null,
   "id": "3bfd1012",
   "metadata": {},
   "outputs": [],
   "source": [
    "df_temperatura = df.copy()\n",
    "df_temperatura['risco'] = df_temperatura['vl_temperatura'].apply(classificar_risco_temp)\n",
    "display(df_temperatura)"
   ]
  },
  {
   "cell_type": "code",
   "execution_count": null,
   "id": "ced120e3",
   "metadata": {},
   "outputs": [],
   "source": [
    "df_corrente = df.copy()\n",
    "df_corrente['risco'] = df_corrente['vl_corrente'].apply(classificar_risco_corrente)\n",
    "display(df_corrente)"
   ]
  },
  {
   "cell_type": "code",
   "execution_count": null,
   "id": "9abb3c37",
   "metadata": {},
   "outputs": [],
   "source": [
    "df_vibracao = df.copy()\n",
    "df_vibracao['risco'] = df_vibracao['vl_vibracao'].apply(classificar_risco_vibracao)\n",
    "display(df_vibracao)"
   ]
  },
  {
   "cell_type": "code",
   "execution_count": null,
   "id": "5008036d",
   "metadata": {},
   "outputs": [],
   "source": [
    "## SEPARAÇÃO DADOS DE TREINO E TESTE\n",
    "x_train, x_test, y_train, y_test = train_test_split(df_temperatura[['vl_temperatura']], df_temperatura['risco'], random_state=42, test_size=0.3, stratify=df_temperatura['risco'])\n",
    "\n",
    "## Treinamento do modelo\n",
    "modelo = RandomForestClassifier(random_state=42)\n",
    "modelo.fit(x_train, y_train)\n",
    "\n",
    "## Predict\n",
    "pred = modelo.predict(x_test)\n",
    "\n",
    "## Teste de Acuracia\n",
    "accuracy = accuracy_score(y_test, pred)\n",
    "print(f\"Acurácia do Modelo: {accuracy * 100:.2f}%\")\n",
    "\n",
    "# Gerar a Matriz de Confusão\n",
    "cm = confusion_matrix(y_test, pred, labels=['Normal', 'Atencao', 'Risco Iminente'])\n",
    "plt.figure(figsize=(8, 6))\n",
    "sns.heatmap(cm, annot=True, fmt='d', cmap='Blues', \n",
    "            xticklabels=['Normal', 'Atencao', 'Risco Iminente'], \n",
    "            yticklabels=['Normal', 'Atencao', 'Risco Iminente'])\n",
    "plt.xlabel('Rótulo Previsto pelo Modelo')\n",
    "plt.ylabel('Rótulo Real')\n",
    "plt.title('Matriz de Confusão')\n",
    "\n",
    "# Salva a imagem da matriz de confusão em um arquivo\n",
    "# plt.savefig('matriz_confusao.png')\n",
    "print(\"\\nGráfico da Matriz de Confusão salvo como 'matriz_confusao.png'\")\n",
    "plt.show()\n",
    "\n",
    "joblib.dump('RFC_Temp.joblib')"
   ]
  },
  {
   "cell_type": "code",
   "execution_count": null,
   "id": "cb7fde6e",
   "metadata": {},
   "outputs": [],
   "source": [
    "## SEPARAÇÃO DADOS DE TREINO E TESTE\n",
    "x_train, x_test, y_train, y_test = train_test_split(df_corrente[['vl_corrente']], df_corrente['risco'], random_state=42, test_size=0.3, stratify=df_corrente['risco'])\n",
    "\n",
    "## Treinamento do modelo\n",
    "modelo = RandomForestClassifier(random_state=42)\n",
    "modelo.fit(x_train, y_train)\n",
    "\n",
    "## Predict\n",
    "pred = modelo.predict(x_test)\n",
    "\n",
    "## Teste de Acuracia\n",
    "accuracy = accuracy_score(y_test, pred)\n",
    "print(f\"Acurácia do Modelo: {accuracy * 100:.2f}%\")\n",
    "\n",
    "# Gerar a Matriz de Confusão\n",
    "cm = confusion_matrix(y_test, pred, labels=['Normal', 'Atencao', 'Risco Iminente'])\n",
    "plt.figure(figsize=(8, 6))\n",
    "sns.heatmap(cm, annot=True, fmt='d', cmap='Blues', \n",
    "            xticklabels=['Normal', 'Atencao', 'Risco Iminente'], \n",
    "            yticklabels=['Normal', 'Atencao', 'Risco Iminente'])\n",
    "plt.xlabel('Rótulo Previsto pelo Modelo')\n",
    "plt.ylabel('Rótulo Real')\n",
    "plt.title('Matriz de Confusão')\n",
    "\n",
    "# Salva a imagem da matriz de confusão em um arquivo\n",
    "# plt.savefig('matriz_confusao.png')\n",
    "print(\"\\nGráfico da Matriz de Confusão salvo como 'matriz_confusao.png'\")\n",
    "plt.show()\n",
    "\n",
    "joblib.dump(modelo, 'RFC_Corrt.joblib')"
   ]
  }
 ],
 "metadata": {
  "kernelspec": {
   "display_name": "Python 3",
   "language": "python",
   "name": "python3"
  },
  "language_info": {
   "codemirror_mode": {
    "name": "ipython",
    "version": 3
   },
   "file_extension": ".py",
   "mimetype": "text/x-python",
   "name": "python",
   "nbconvert_exporter": "python",
   "pygments_lexer": "ipython3",
   "version": "3.10.11"
  }
 },
 "nbformat": 4,
 "nbformat_minor": 5
}
