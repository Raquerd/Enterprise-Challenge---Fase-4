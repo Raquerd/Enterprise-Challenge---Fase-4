{
 "cells": [
  {
   "cell_type": "markdown",
   "id": "0fd1cda6",
   "metadata": {},
   "source": [
    "# Gerador de dados\n",
    "Script focada na geração de dados artificiais para o projeto Enterprise Challenge - FIAP"
   ]
  },
  {
   "cell_type": "markdown",
   "id": "6603c062",
   "metadata": {},
   "source": [
    "## Preparações iniciais"
   ]
  },
  {
   "cell_type": "code",
   "execution_count": 44,
   "id": "ddd83680",
   "metadata": {},
   "outputs": [],
   "source": [
    "import pandas as pd, random, oracledb\n",
    "import numpy as np\n",
    "from faker import Faker\n",
    "import datetime"
   ]
  },
  {
   "cell_type": "markdown",
   "id": "8db6b302",
   "metadata": {},
   "source": [
    "### Definindo parametros iniciais"
   ]
  },
  {
   "cell_type": "code",
   "execution_count": 45,
   "id": "dc58c956",
   "metadata": {},
   "outputs": [],
   "source": [
    "id_maquina = 101\n",
    "id_potenciometro = 1\n",
    "id_termistor = 2\n",
    "id_mpu6050 = 3\n",
    "\n",
    "reg_max = 50000\n",
    "\n",
    "conn = oracledb.connect(user=\"rm562274\", password=\"090402\", dsn='oracle.fiap.com.br:1521/ORCL')\n",
    "\n"
   ]
  },
  {
   "cell_type": "markdown",
   "id": "26468b00",
   "metadata": {},
   "source": [
    "## Setando valores padrões"
   ]
  },
  {
   "cell_type": "code",
   "execution_count": 46,
   "id": "44cc3504",
   "metadata": {},
   "outputs": [],
   "source": [
    "\n",
    "# Inicializa o Faker para gerar dados em português brasileiro\n",
    "fake = Faker('pt_BR')\n",
    "\n",
    "# Para garantir que os dados \"aleatórios\" sejam sempre os mesmos, o que é bom para testes\n",
    "Faker.seed(0)\n",
    "np.random.seed(0)\n"
   ]
  },
  {
   "cell_type": "code",
   "execution_count": 47,
   "id": "86df3431",
   "metadata": {},
   "outputs": [],
   "source": [
    "\n",
    "def gerar_fabricas(num_fabricas):\n",
    "    print(\"Iniciando a geração de dados para as Dimensões...\")\n",
    "    fabricas = []\n",
    "    for i in range(1, num_fabricas + 1):\n",
    "        fabricas.append({\n",
    "            'id_fabrica': i,\n",
    "            'nome_fabrica': fake.company(),\n",
    "            'cidade': fake.city(),\n",
    "            'estado': fake.state_abbr()\n",
    "        })\n",
    "    df_fabricas = pd.DataFrame(fabricas)\n",
    "    return(df_fabricas)\n"
   ]
  },
  {
   "cell_type": "code",
   "execution_count": 48,
   "id": "cc298f20",
   "metadata": {},
   "outputs": [],
   "source": [
    "def gerar_sensores(num_sensores_gerados):\n",
    "    # --- Dimensão Sensores ---\n",
    "    tipos_sensor = {'Temperatura':'Ds18b20', 'Vibracao':'MPU-6050', 'Corrente':'3590S'}\n",
    "    sensores = []\n",
    "    id_sensor_counter = 1\n",
    "    for tipo in tipos_sensor:\n",
    "        for i in range(0, num_sensores_gerados):\n",
    "            \n",
    "            sensores.append({\n",
    "                'id_sensor': id_sensor_counter,\n",
    "                'nome_sensor': f'{tipos_sensor[tipo]}-{fake.bothify(text=\"???-####\")}',\n",
    "                'tipo_sensor': tipo,\n",
    "                'fabricante_sensor': fake.company(),\n",
    "                'faixa_operacional_min': '',\n",
    "                'faixa_operacional_max': ''\n",
    "            })\n",
    "            id_sensor_counter += 1\n",
    "\n",
    "    df_sensores = pd.DataFrame(sensores)\n",
    "    df_sensores.loc[df_sensores['tipo_sensor'] == 'Temperatura', 'faixa_operacional_min'] = -55.0\n",
    "    df_sensores.loc[df_sensores['tipo_sensor'] == 'Temperatura', 'faixa_operacional_max'] = 125.0\n",
    "    df_sensores.loc[df_sensores['tipo_sensor'] == 'Vibracao', 'faixa_operacional_min'] = 0.0\n",
    "    df_sensores.loc[df_sensores['tipo_sensor'] == 'Vibracao', 'faixa_operacional_max'] = 150.00\n",
    "    df_sensores.loc[df_sensores['tipo_sensor'] == 'Corrente', 'faixa_operacional_min'] = 4\n",
    "    df_sensores.loc[df_sensores['tipo_sensor'] == 'Corrente', 'faixa_operacional_max'] = 8\n",
    "    return df_sensores\n"
   ]
  },
  {
   "cell_type": "code",
   "execution_count": 49,
   "id": "e5945f08",
   "metadata": {},
   "outputs": [],
   "source": [
    "def gerar_lote(qtd_lote, frequencia, minutos_lote, data_inicial: str = \"2025-08-01 08:00\"):\n",
    "    '''\n",
    "    qtd_lote: Quantos lotes serão gerados\n",
    "    frequencia: A frequencia de geração de dados de cada lote\n",
    "    minutos_lote: Quantos minutos serão considerados 1 lote inteiro\n",
    "    '''\n",
    "    periodo = (60/frequencia)*minutos_lote\n",
    "    print(periodo)\n",
    "    print(int(data_inicial.split('-')[0]),int(data_inicial.split('-')[1]),int(data_inicial.split('-')[2].split(' ')[0]),int(data_inicial.split('-')[2].split(' ')[1].split(':')[0]))\n",
    "\n",
    "    data_inicial = datetime.datetime(\n",
    "        int(data_inicial.split('-')[0]),\n",
    "        int(data_inicial.split('-')[1]),\n",
    "        int(data_inicial.split('-')[2].split(' ')[0]),\n",
    "        int(data_inicial.split('-')[2].split(' ')[1].split(':')[0]),\n",
    "        int(data_inicial.split('-')[2].split(' ')[1].split(':')[1]),\n",
    "        0,\n",
    "        0\n",
    "        )\n",
    "    \n",
    "    df_lote = pd.DataFrame(\n",
    "        {\n",
    "        'id':[],\n",
    "        'timestamp':[]\n",
    "        }\n",
    "    )\n",
    "\n",
    "    for a in range(1, qtd_lote+1):\n",
    "        if a == 1:\n",
    "            lote_temp = pd.DataFrame({'timestamp':pd.date_range(data_inicial, periods=periodo, freq=f'{int(frequencia)}min')}) \n",
    "        else:\n",
    "            lote_temp = pd.DataFrame({'timestamp':pd.date_range(max(df_lote['timestamp']), periods=periodo, freq=f'{int(frequencia)}min')})\n",
    "        lote_temp['id'] = a\n",
    "        df_lote = pd.concat([df_lote, lote_temp[['id', 'timestamp']]], ignore_index=True)\n",
    "\n",
    "    df_lote = df_lote.astype({'id':int})\n",
    "    return df_lote\n"
   ]
  },
  {
   "cell_type": "code",
   "execution_count": 50,
   "id": "00f5dfab",
   "metadata": {},
   "outputs": [],
   "source": [
    "def gerar_maquinas(num_maquinas):\n",
    "    # --- Dimensão Máquinas ---\n",
    "    maquinas = []\n",
    "    ids_fabricas_validos = df_fabricas['id_fabrica'].tolist()\n",
    "    for i in range(1, num_maquinas + 1):\n",
    "        maquinas.append({\n",
    "            'id_maquina': i,\n",
    "            'nome_maquina': f'WeldBot-{2000 + i}',\n",
    "            'fabricante': fake.company(),\n",
    "            'modelo': np.random.choice(['TX-100', 'RX-500', 'W-Master']),\n",
    "            'dt_instalacao': fake.past_date(start_date='-2y'),\n",
    "            'id_fabrica': np.random.choice(ids_fabricas_validos) # Garante integridade\n",
    "        })\n",
    "    df_maquinas = pd.DataFrame(maquinas)\n",
    "    return df_maquinas\n"
   ]
  },
  {
   "cell_type": "code",
   "execution_count": 51,
   "id": "1228dc67",
   "metadata": {},
   "outputs": [],
   "source": [
    "# print(int(len(df_sensores['id_sensor'])/3))\n",
    "def gerar_sistema(qtd_sistemas):\n",
    "    sistema = []\n",
    "\n",
    "    for i in range(1, qtd_sistemas + 1):\n",
    "        sistema.append({\n",
    "            'id_sistema':i,\n",
    "            'endereco_sistema':fake.bothify(text=\"SETOR-####\"),\n",
    "            'nome_sistema':f'ESP32-',\n",
    "            # 'id_maquina':random.choice(df_maquinas['id_maquina'].tolist())\n",
    "        })\n",
    "\n",
    "    df_sistema = pd.DataFrame(sistema)\n",
    "    df_sistema['nome_sistema'] = df_sistema['nome_sistema'] + df_sistema['endereco_sistema']\n",
    "    return df_sistema\n",
    "\n",
    "# df_sistema = gerar_sistema()\n",
    "# # df_sistema['id_maquina'] = random.choice(df_maquinas['id_maquina'].tolist())\n",
    "# display(df_sistema)"
   ]
  },
  {
   "cell_type": "code",
   "execution_count": null,
   "id": "3b4bf490",
   "metadata": {},
   "outputs": [],
   "source": [
    "df_fabricas = gerar_fabricas(6)\n",
    "cursor = conn.cursor()\n"
   ]
  },
  {
   "cell_type": "code",
   "execution_count": 53,
   "id": "6ca690c3",
   "metadata": {},
   "outputs": [
    {
     "data": {
      "application/vnd.microsoft.datawrangler.viewer.v0+json": {
       "columns": [
        {
         "name": "index",
         "rawType": "int64",
         "type": "integer"
        },
        {
         "name": "id_sensor",
         "rawType": "int64",
         "type": "integer"
        },
        {
         "name": "nome_sensor",
         "rawType": "object",
         "type": "string"
        },
        {
         "name": "tipo_sensor",
         "rawType": "object",
         "type": "string"
        },
        {
         "name": "fabricante_sensor",
         "rawType": "object",
         "type": "string"
        },
        {
         "name": "faixa_operacional_min",
         "rawType": "object",
         "type": "unknown"
        },
        {
         "name": "faixa_operacional_max",
         "rawType": "object",
         "type": "unknown"
        }
       ],
       "ref": "b4f2e029-5ab8-48eb-aa6c-95b55526bf61",
       "rows": [
        [
         "0",
         "1",
         "Ds18b20-GFz-6604",
         "Temperatura",
         "Mendes",
         "-55.0",
         "125.0"
        ],
        [
         "1",
         "2",
         "Ds18b20-isi-5938",
         "Temperatura",
         "Pinto Ltda.",
         "-55.0",
         "125.0"
        ],
        [
         "2",
         "3",
         "Ds18b20-gUe-8924",
         "Temperatura",
         "Melo",
         "-55.0",
         "125.0"
        ],
        [
         "3",
         "4",
         "Ds18b20-uNO-8156",
         "Temperatura",
         "Novaes Mendes - ME",
         "-55.0",
         "125.0"
        ],
        [
         "4",
         "5",
         "MPU-6050-afU-8408",
         "Vibracao",
         "Santos",
         "0.0",
         "150.0"
        ],
        [
         "5",
         "6",
         "MPU-6050-pUu-0975",
         "Vibracao",
         "Correia - EI",
         "0.0",
         "150.0"
        ],
        [
         "6",
         "7",
         "MPU-6050-Cff-3328",
         "Vibracao",
         "Moraes",
         "0.0",
         "150.0"
        ],
        [
         "7",
         "8",
         "MPU-6050-sTh-7148",
         "Vibracao",
         "Nogueira",
         "0.0",
         "150.0"
        ],
        [
         "8",
         "9",
         "3590S-sCf-3989",
         "Corrente",
         "Dias",
         "4",
         "8"
        ],
        [
         "9",
         "10",
         "3590S-mlc-9342",
         "Corrente",
         "Melo",
         "4",
         "8"
        ],
        [
         "10",
         "11",
         "3590S-cfS-1122",
         "Corrente",
         "Santos",
         "4",
         "8"
        ],
        [
         "11",
         "12",
         "3590S-nRL-8483",
         "Corrente",
         "Pacheco",
         "4",
         "8"
        ]
       ],
       "shape": {
        "columns": 6,
        "rows": 12
       }
      },
      "text/html": [
       "<div>\n",
       "<style scoped>\n",
       "    .dataframe tbody tr th:only-of-type {\n",
       "        vertical-align: middle;\n",
       "    }\n",
       "\n",
       "    .dataframe tbody tr th {\n",
       "        vertical-align: top;\n",
       "    }\n",
       "\n",
       "    .dataframe thead th {\n",
       "        text-align: right;\n",
       "    }\n",
       "</style>\n",
       "<table border=\"1\" class=\"dataframe\">\n",
       "  <thead>\n",
       "    <tr style=\"text-align: right;\">\n",
       "      <th></th>\n",
       "      <th>id_sensor</th>\n",
       "      <th>nome_sensor</th>\n",
       "      <th>tipo_sensor</th>\n",
       "      <th>fabricante_sensor</th>\n",
       "      <th>faixa_operacional_min</th>\n",
       "      <th>faixa_operacional_max</th>\n",
       "    </tr>\n",
       "  </thead>\n",
       "  <tbody>\n",
       "    <tr>\n",
       "      <th>0</th>\n",
       "      <td>1</td>\n",
       "      <td>Ds18b20-GFz-6604</td>\n",
       "      <td>Temperatura</td>\n",
       "      <td>Mendes</td>\n",
       "      <td>-55.0</td>\n",
       "      <td>125.0</td>\n",
       "    </tr>\n",
       "    <tr>\n",
       "      <th>1</th>\n",
       "      <td>2</td>\n",
       "      <td>Ds18b20-isi-5938</td>\n",
       "      <td>Temperatura</td>\n",
       "      <td>Pinto Ltda.</td>\n",
       "      <td>-55.0</td>\n",
       "      <td>125.0</td>\n",
       "    </tr>\n",
       "    <tr>\n",
       "      <th>2</th>\n",
       "      <td>3</td>\n",
       "      <td>Ds18b20-gUe-8924</td>\n",
       "      <td>Temperatura</td>\n",
       "      <td>Melo</td>\n",
       "      <td>-55.0</td>\n",
       "      <td>125.0</td>\n",
       "    </tr>\n",
       "    <tr>\n",
       "      <th>3</th>\n",
       "      <td>4</td>\n",
       "      <td>Ds18b20-uNO-8156</td>\n",
       "      <td>Temperatura</td>\n",
       "      <td>Novaes Mendes - ME</td>\n",
       "      <td>-55.0</td>\n",
       "      <td>125.0</td>\n",
       "    </tr>\n",
       "    <tr>\n",
       "      <th>4</th>\n",
       "      <td>5</td>\n",
       "      <td>MPU-6050-afU-8408</td>\n",
       "      <td>Vibracao</td>\n",
       "      <td>Santos</td>\n",
       "      <td>0.0</td>\n",
       "      <td>150.0</td>\n",
       "    </tr>\n",
       "    <tr>\n",
       "      <th>5</th>\n",
       "      <td>6</td>\n",
       "      <td>MPU-6050-pUu-0975</td>\n",
       "      <td>Vibracao</td>\n",
       "      <td>Correia - EI</td>\n",
       "      <td>0.0</td>\n",
       "      <td>150.0</td>\n",
       "    </tr>\n",
       "    <tr>\n",
       "      <th>6</th>\n",
       "      <td>7</td>\n",
       "      <td>MPU-6050-Cff-3328</td>\n",
       "      <td>Vibracao</td>\n",
       "      <td>Moraes</td>\n",
       "      <td>0.0</td>\n",
       "      <td>150.0</td>\n",
       "    </tr>\n",
       "    <tr>\n",
       "      <th>7</th>\n",
       "      <td>8</td>\n",
       "      <td>MPU-6050-sTh-7148</td>\n",
       "      <td>Vibracao</td>\n",
       "      <td>Nogueira</td>\n",
       "      <td>0.0</td>\n",
       "      <td>150.0</td>\n",
       "    </tr>\n",
       "    <tr>\n",
       "      <th>8</th>\n",
       "      <td>9</td>\n",
       "      <td>3590S-sCf-3989</td>\n",
       "      <td>Corrente</td>\n",
       "      <td>Dias</td>\n",
       "      <td>4</td>\n",
       "      <td>8</td>\n",
       "    </tr>\n",
       "    <tr>\n",
       "      <th>9</th>\n",
       "      <td>10</td>\n",
       "      <td>3590S-mlc-9342</td>\n",
       "      <td>Corrente</td>\n",
       "      <td>Melo</td>\n",
       "      <td>4</td>\n",
       "      <td>8</td>\n",
       "    </tr>\n",
       "    <tr>\n",
       "      <th>10</th>\n",
       "      <td>11</td>\n",
       "      <td>3590S-cfS-1122</td>\n",
       "      <td>Corrente</td>\n",
       "      <td>Santos</td>\n",
       "      <td>4</td>\n",
       "      <td>8</td>\n",
       "    </tr>\n",
       "    <tr>\n",
       "      <th>11</th>\n",
       "      <td>12</td>\n",
       "      <td>3590S-nRL-8483</td>\n",
       "      <td>Corrente</td>\n",
       "      <td>Pacheco</td>\n",
       "      <td>4</td>\n",
       "      <td>8</td>\n",
       "    </tr>\n",
       "  </tbody>\n",
       "</table>\n",
       "</div>"
      ],
      "text/plain": [
       "    id_sensor        nome_sensor  tipo_sensor   fabricante_sensor  \\\n",
       "0           1   Ds18b20-GFz-6604  Temperatura              Mendes   \n",
       "1           2   Ds18b20-isi-5938  Temperatura         Pinto Ltda.   \n",
       "2           3   Ds18b20-gUe-8924  Temperatura                Melo   \n",
       "3           4   Ds18b20-uNO-8156  Temperatura  Novaes Mendes - ME   \n",
       "4           5  MPU-6050-afU-8408     Vibracao              Santos   \n",
       "5           6  MPU-6050-pUu-0975     Vibracao        Correia - EI   \n",
       "6           7  MPU-6050-Cff-3328     Vibracao              Moraes   \n",
       "7           8  MPU-6050-sTh-7148     Vibracao            Nogueira   \n",
       "8           9     3590S-sCf-3989     Corrente                Dias   \n",
       "9          10     3590S-mlc-9342     Corrente                Melo   \n",
       "10         11     3590S-cfS-1122     Corrente              Santos   \n",
       "11         12     3590S-nRL-8483     Corrente             Pacheco   \n",
       "\n",
       "   faixa_operacional_min faixa_operacional_max  \n",
       "0                  -55.0                 125.0  \n",
       "1                  -55.0                 125.0  \n",
       "2                  -55.0                 125.0  \n",
       "3                  -55.0                 125.0  \n",
       "4                    0.0                 150.0  \n",
       "5                    0.0                 150.0  \n",
       "6                    0.0                 150.0  \n",
       "7                    0.0                 150.0  \n",
       "8                      4                     8  \n",
       "9                      4                     8  \n",
       "10                     4                     8  \n",
       "11                     4                     8  "
      ]
     },
     "metadata": {},
     "output_type": "display_data"
    }
   ],
   "source": [
    "df_sensores = gerar_sensores(4)\n",
    "display(df_sensores)\n"
   ]
  },
  {
   "cell_type": "code",
   "execution_count": null,
   "id": "129a47cb",
   "metadata": {},
   "outputs": [
    {
     "data": {
      "application/vnd.microsoft.datawrangler.viewer.v0+json": {
       "columns": [
        {
         "name": "index",
         "rawType": "int64",
         "type": "integer"
        },
        {
         "name": "id_sistema",
         "rawType": "int64",
         "type": "integer"
        },
        {
         "name": "endereco_sistema",
         "rawType": "object",
         "type": "string"
        },
        {
         "name": "nome_sistema",
         "rawType": "object",
         "type": "string"
        },
        {
         "name": "id_maquina",
         "rawType": "int64",
         "type": "integer"
        }
       ],
       "ref": "a4dcf6ec-c58c-4f1c-87e5-f5270afc388a",
       "rows": [
        [
         "0",
         "1",
         "SETOR-2518",
         "ESP32-SETOR-2518",
         "1"
        ],
        [
         "1",
         "2",
         "SETOR-5367",
         "ESP32-SETOR-5367",
         "2"
        ],
        [
         "2",
         "3",
         "SETOR-1097",
         "ESP32-SETOR-1097",
         "3"
        ],
        [
         "3",
         "4",
         "SETOR-9519",
         "ESP32-SETOR-9519",
         "4"
        ]
       ],
       "shape": {
        "columns": 4,
        "rows": 4
       }
      },
      "text/html": [
       "<div>\n",
       "<style scoped>\n",
       "    .dataframe tbody tr th:only-of-type {\n",
       "        vertical-align: middle;\n",
       "    }\n",
       "\n",
       "    .dataframe tbody tr th {\n",
       "        vertical-align: top;\n",
       "    }\n",
       "\n",
       "    .dataframe thead th {\n",
       "        text-align: right;\n",
       "    }\n",
       "</style>\n",
       "<table border=\"1\" class=\"dataframe\">\n",
       "  <thead>\n",
       "    <tr style=\"text-align: right;\">\n",
       "      <th></th>\n",
       "      <th>id_sistema</th>\n",
       "      <th>endereco_sistema</th>\n",
       "      <th>nome_sistema</th>\n",
       "      <th>id_maquina</th>\n",
       "    </tr>\n",
       "  </thead>\n",
       "  <tbody>\n",
       "    <tr>\n",
       "      <th>0</th>\n",
       "      <td>1</td>\n",
       "      <td>SETOR-2518</td>\n",
       "      <td>ESP32-SETOR-2518</td>\n",
       "      <td>1</td>\n",
       "    </tr>\n",
       "    <tr>\n",
       "      <th>1</th>\n",
       "      <td>2</td>\n",
       "      <td>SETOR-5367</td>\n",
       "      <td>ESP32-SETOR-5367</td>\n",
       "      <td>2</td>\n",
       "    </tr>\n",
       "    <tr>\n",
       "      <th>2</th>\n",
       "      <td>3</td>\n",
       "      <td>SETOR-1097</td>\n",
       "      <td>ESP32-SETOR-1097</td>\n",
       "      <td>3</td>\n",
       "    </tr>\n",
       "    <tr>\n",
       "      <th>3</th>\n",
       "      <td>4</td>\n",
       "      <td>SETOR-9519</td>\n",
       "      <td>ESP32-SETOR-9519</td>\n",
       "      <td>4</td>\n",
       "    </tr>\n",
       "  </tbody>\n",
       "</table>\n",
       "</div>"
      ],
      "text/plain": [
       "   id_sistema endereco_sistema      nome_sistema  id_maquina\n",
       "0           1       SETOR-2518  ESP32-SETOR-2518           1\n",
       "1           2       SETOR-5367  ESP32-SETOR-5367           2\n",
       "2           3       SETOR-1097  ESP32-SETOR-1097           3\n",
       "3           4       SETOR-9519  ESP32-SETOR-9519           4"
      ]
     },
     "metadata": {},
     "output_type": "display_data"
    }
   ],
   "source": [
    "df_sistema = gerar_sistema(int(len(df_sensores['id_sensor'])/3))\n",
    "df_sistema['id_maquina'] = [int(a) for a in df_sistema['id_sistema']]\n",
    "display(df_sistema)\n",
    "\n",
    "df_sensores.loc[df_sensores['tipo_sensor'] == \"Temperatura\", \"id_sistema\"] = [int(a) for a in df_sistema['id_sistema']]\n",
    "df_sensores.loc[df_sensores['tipo_sensor'] == \"Vibracao\", \"id_sistema\"] = [int(a) for a in df_sistema['id_sistema']]\n",
    "df_sensores.loc[df_sensores['tipo_sensor'] == \"Corrente\", \"id_sistema\"] = [int(a) for a in df_sistema['id_sistema']]\n",
    "df_sensores['id_sistema'] = df_sensores['id_sistema'].astype(int) \n",
    "\n",
    "display(df_sensores)"
   ]
  },
  {
   "cell_type": "code",
   "execution_count": 13,
   "id": "b4134689",
   "metadata": {},
   "outputs": [
    {
     "name": "stdout",
     "output_type": "stream",
     "text": [
      "1.0\n",
      "2025 8 1 8\n"
     ]
    },
    {
     "name": "stderr",
     "output_type": "stream",
     "text": [
      "C:\\Users\\Davi\\AppData\\Local\\Temp\\ipykernel_23940\\136447155.py:30: FutureWarning: Non-integer 'periods' in pd.date_range, pd.timedelta_range, pd.period_range, and pd.interval_range are deprecated and will raise in a future version.\n",
      "  lote_temp = pd.DataFrame({'timestamp':pd.date_range(data_inicial, periods=periodo, freq=f'{int(frequencia)}min')})\n",
      "C:\\Users\\Davi\\AppData\\Local\\Temp\\ipykernel_23940\\136447155.py:34: FutureWarning: The behavior of DataFrame concatenation with empty or all-NA entries is deprecated. In a future version, this will no longer exclude empty or all-NA columns when determining the result dtypes. To retain the old behavior, exclude the relevant entries before the concat operation.\n",
      "  df_lote = pd.concat([df_lote, lote_temp[['id', 'timestamp']]], ignore_index=True)\n",
      "C:\\Users\\Davi\\AppData\\Local\\Temp\\ipykernel_23940\\136447155.py:32: FutureWarning: Non-integer 'periods' in pd.date_range, pd.timedelta_range, pd.period_range, and pd.interval_range are deprecated and will raise in a future version.\n",
      "  lote_temp = pd.DataFrame({'timestamp':pd.date_range(max(df_lote['timestamp']), periods=periodo, freq=f'{int(frequencia)}min')})\n",
      "C:\\Users\\Davi\\AppData\\Local\\Temp\\ipykernel_23940\\136447155.py:32: FutureWarning: Non-integer 'periods' in pd.date_range, pd.timedelta_range, pd.period_range, and pd.interval_range are deprecated and will raise in a future version.\n",
      "  lote_temp = pd.DataFrame({'timestamp':pd.date_range(max(df_lote['timestamp']), periods=periodo, freq=f'{int(frequencia)}min')})\n",
      "C:\\Users\\Davi\\AppData\\Local\\Temp\\ipykernel_23940\\136447155.py:32: FutureWarning: Non-integer 'periods' in pd.date_range, pd.timedelta_range, pd.period_range, and pd.interval_range are deprecated and will raise in a future version.\n",
      "  lote_temp = pd.DataFrame({'timestamp':pd.date_range(max(df_lote['timestamp']), periods=periodo, freq=f'{int(frequencia)}min')})\n",
      "C:\\Users\\Davi\\AppData\\Local\\Temp\\ipykernel_23940\\136447155.py:32: FutureWarning: Non-integer 'periods' in pd.date_range, pd.timedelta_range, pd.period_range, and pd.interval_range are deprecated and will raise in a future version.\n",
      "  lote_temp = pd.DataFrame({'timestamp':pd.date_range(max(df_lote['timestamp']), periods=periodo, freq=f'{int(frequencia)}min')})\n"
     ]
    },
    {
     "data": {
      "application/vnd.microsoft.datawrangler.viewer.v0+json": {
       "columns": [
        {
         "name": "index",
         "rawType": "int64",
         "type": "integer"
        },
        {
         "name": "id",
         "rawType": "int64",
         "type": "integer"
        },
        {
         "name": "timestamp",
         "rawType": "datetime64[ns]",
         "type": "datetime"
        }
       ],
       "ref": "696d0efc-22f7-41db-926e-f64172b4c575",
       "rows": [
        [
         "0",
         "1",
         "2025-08-01 08:00:00"
        ],
        [
         "1",
         "2",
         "2025-08-01 08:00:00"
        ],
        [
         "2",
         "3",
         "2025-08-01 08:00:00"
        ],
        [
         "3",
         "4",
         "2025-08-01 08:00:00"
        ],
        [
         "4",
         "5",
         "2025-08-01 08:00:00"
        ]
       ],
       "shape": {
        "columns": 2,
        "rows": 5
       }
      },
      "text/html": [
       "<div>\n",
       "<style scoped>\n",
       "    .dataframe tbody tr th:only-of-type {\n",
       "        vertical-align: middle;\n",
       "    }\n",
       "\n",
       "    .dataframe tbody tr th {\n",
       "        vertical-align: top;\n",
       "    }\n",
       "\n",
       "    .dataframe thead th {\n",
       "        text-align: right;\n",
       "    }\n",
       "</style>\n",
       "<table border=\"1\" class=\"dataframe\">\n",
       "  <thead>\n",
       "    <tr style=\"text-align: right;\">\n",
       "      <th></th>\n",
       "      <th>id</th>\n",
       "      <th>timestamp</th>\n",
       "    </tr>\n",
       "  </thead>\n",
       "  <tbody>\n",
       "    <tr>\n",
       "      <th>0</th>\n",
       "      <td>1</td>\n",
       "      <td>2025-08-01 08:00:00</td>\n",
       "    </tr>\n",
       "    <tr>\n",
       "      <th>1</th>\n",
       "      <td>2</td>\n",
       "      <td>2025-08-01 08:00:00</td>\n",
       "    </tr>\n",
       "    <tr>\n",
       "      <th>2</th>\n",
       "      <td>3</td>\n",
       "      <td>2025-08-01 08:00:00</td>\n",
       "    </tr>\n",
       "    <tr>\n",
       "      <th>3</th>\n",
       "      <td>4</td>\n",
       "      <td>2025-08-01 08:00:00</td>\n",
       "    </tr>\n",
       "    <tr>\n",
       "      <th>4</th>\n",
       "      <td>5</td>\n",
       "      <td>2025-08-01 08:00:00</td>\n",
       "    </tr>\n",
       "  </tbody>\n",
       "</table>\n",
       "</div>"
      ],
      "text/plain": [
       "   id           timestamp\n",
       "0   1 2025-08-01 08:00:00\n",
       "1   2 2025-08-01 08:00:00\n",
       "2   3 2025-08-01 08:00:00\n",
       "3   4 2025-08-01 08:00:00\n",
       "4   5 2025-08-01 08:00:00"
      ]
     },
     "metadata": {},
     "output_type": "display_data"
    }
   ],
   "source": [
    "df_lote = gerar_lote(5, 60, 1)\n",
    "display(df_lote)\n"
   ]
  },
  {
   "cell_type": "code",
   "execution_count": null,
   "id": "5a8447b4",
   "metadata": {},
   "outputs": [
    {
     "data": {
      "application/vnd.microsoft.datawrangler.viewer.v0+json": {
       "columns": [
        {
         "name": "index",
         "rawType": "int64",
         "type": "integer"
        },
        {
         "name": "id_maquina",
         "rawType": "int64",
         "type": "integer"
        },
        {
         "name": "nome_maquina",
         "rawType": "object",
         "type": "string"
        },
        {
         "name": "fabricante",
         "rawType": "object",
         "type": "string"
        },
        {
         "name": "modelo",
         "rawType": "object",
         "type": "string"
        },
        {
         "name": "dt_instalacao",
         "rawType": "object",
         "type": "unknown"
        },
        {
         "name": "id_fabrica",
         "rawType": "int64",
         "type": "integer"
        }
       ],
       "ref": "7e131aab-fe9a-4063-aebb-cb98ac0a04fa",
       "rows": [
        [
         "0",
         "1",
         "WeldBot-2001",
         "Cassiano Rezende - ME",
         "RX-500",
         "2024-07-15",
         "1"
        ],
        [
         "1",
         "2",
         "WeldBot-2002",
         "Moura",
         "RX-500",
         "2024-10-25",
         "2"
        ],
        [
         "2",
         "3",
         "WeldBot-2003",
         "Oliveira S/A",
         "TX-100",
         "2025-03-11",
         "3"
        ],
        [
         "3",
         "4",
         "WeldBot-2004",
         "Souza - ME",
         "W-Master",
         "2025-09-03",
         "4"
        ]
       ],
       "shape": {
        "columns": 6,
        "rows": 4
       }
      },
      "text/html": [
       "<div>\n",
       "<style scoped>\n",
       "    .dataframe tbody tr th:only-of-type {\n",
       "        vertical-align: middle;\n",
       "    }\n",
       "\n",
       "    .dataframe tbody tr th {\n",
       "        vertical-align: top;\n",
       "    }\n",
       "\n",
       "    .dataframe thead th {\n",
       "        text-align: right;\n",
       "    }\n",
       "</style>\n",
       "<table border=\"1\" class=\"dataframe\">\n",
       "  <thead>\n",
       "    <tr style=\"text-align: right;\">\n",
       "      <th></th>\n",
       "      <th>id_maquina</th>\n",
       "      <th>nome_maquina</th>\n",
       "      <th>fabricante</th>\n",
       "      <th>modelo</th>\n",
       "      <th>dt_instalacao</th>\n",
       "      <th>id_fabrica</th>\n",
       "    </tr>\n",
       "  </thead>\n",
       "  <tbody>\n",
       "    <tr>\n",
       "      <th>0</th>\n",
       "      <td>1</td>\n",
       "      <td>WeldBot-2001</td>\n",
       "      <td>Cassiano Rezende - ME</td>\n",
       "      <td>RX-500</td>\n",
       "      <td>2024-07-15</td>\n",
       "      <td>1</td>\n",
       "    </tr>\n",
       "    <tr>\n",
       "      <th>1</th>\n",
       "      <td>2</td>\n",
       "      <td>WeldBot-2002</td>\n",
       "      <td>Moura</td>\n",
       "      <td>RX-500</td>\n",
       "      <td>2024-10-25</td>\n",
       "      <td>2</td>\n",
       "    </tr>\n",
       "    <tr>\n",
       "      <th>2</th>\n",
       "      <td>3</td>\n",
       "      <td>WeldBot-2003</td>\n",
       "      <td>Oliveira S/A</td>\n",
       "      <td>TX-100</td>\n",
       "      <td>2025-03-11</td>\n",
       "      <td>3</td>\n",
       "    </tr>\n",
       "    <tr>\n",
       "      <th>3</th>\n",
       "      <td>4</td>\n",
       "      <td>WeldBot-2004</td>\n",
       "      <td>Souza - ME</td>\n",
       "      <td>W-Master</td>\n",
       "      <td>2025-09-03</td>\n",
       "      <td>4</td>\n",
       "    </tr>\n",
       "  </tbody>\n",
       "</table>\n",
       "</div>"
      ],
      "text/plain": [
       "   id_maquina  nome_maquina             fabricante    modelo dt_instalacao  \\\n",
       "0           1  WeldBot-2001  Cassiano Rezende - ME    RX-500    2024-07-15   \n",
       "1           2  WeldBot-2002                  Moura    RX-500    2024-10-25   \n",
       "2           3  WeldBot-2003           Oliveira S/A    TX-100    2025-03-11   \n",
       "3           4  WeldBot-2004             Souza - ME  W-Master    2025-09-03   \n",
       "\n",
       "   id_fabrica  \n",
       "0           1  \n",
       "1           2  \n",
       "2           3  \n",
       "3           4  "
      ]
     },
     "metadata": {},
     "output_type": "display_data"
    }
   ],
   "source": [
    "# df_maquinas = gerar_maquinas(len(df_fabricas))\n",
    "\n",
    "display(df_maquinas[:4])\n"
   ]
  },
  {
   "cell_type": "code",
   "execution_count": 99,
   "id": "5e1f45e0",
   "metadata": {},
   "outputs": [
    {
     "name": "stdout",
     "output_type": "stream",
     "text": [
      "\n",
      "Iniciando a geração de dados para as Tabelas Fato...\n",
      "[1, 2, 3, 4] [1, 2, 3, 4]\n"
     ]
    },
    {
     "name": "stderr",
     "output_type": "stream",
     "text": [
      "C:\\Users\\Davi\\AppData\\Local\\Temp\\ipykernel_23940\\3798535030.py:2: UserWarning: pandas only supports SQLAlchemy connectable (engine/connection) or database string URI or sqlite3 DBAPI2 connection. Other DBAPI2 objects are not tested. Please consider using SQLAlchemy.\n",
      "  sistema = pd.read_sql('SELECT * FROM DM_SISTEMAS', conn)\n",
      "C:\\Users\\Davi\\AppData\\Local\\Temp\\ipykernel_23940\\3798535030.py:3: UserWarning: pandas only supports SQLAlchemy connectable (engine/connection) or database string URI or sqlite3 DBAPI2 connection. Other DBAPI2 objects are not tested. Please consider using SQLAlchemy.\n",
      "  maquinario = pd.read_sql('SELECT * FROM DM_MAQUINA', conn)\n"
     ]
    },
    {
     "data": {
      "application/vnd.microsoft.datawrangler.viewer.v0+json": {
       "columns": [
        {
         "name": "index",
         "rawType": "int64",
         "type": "integer"
        },
        {
         "name": "id_registro",
         "rawType": "int64",
         "type": "integer"
        },
        {
         "name": "id_sistema",
         "rawType": "int64",
         "type": "integer"
        },
        {
         "name": "id_maquina",
         "rawType": "int64",
         "type": "integer"
        },
        {
         "name": "timestamp_registro",
         "rawType": "datetime64[ns]",
         "type": "datetime"
        },
        {
         "name": "vl_temperatura",
         "rawType": "float64",
         "type": "float"
        },
        {
         "name": "vl_vibracao",
         "rawType": "float64",
         "type": "float"
        },
        {
         "name": "vl_corrente",
         "rawType": "float64",
         "type": "float"
        }
       ],
       "ref": "886401e2-db37-4264-8c51-e14ae76e4b5f",
       "rows": [
        [
         "0",
         "1",
         "1",
         "2",
         "2025-08-01 03:00:00",
         "89.0958350111268",
         "4.003521681428542",
         "145.04919928744835"
        ]
       ],
       "shape": {
        "columns": 7,
        "rows": 1
       }
      },
      "text/html": [
       "<div>\n",
       "<style scoped>\n",
       "    .dataframe tbody tr th:only-of-type {\n",
       "        vertical-align: middle;\n",
       "    }\n",
       "\n",
       "    .dataframe tbody tr th {\n",
       "        vertical-align: top;\n",
       "    }\n",
       "\n",
       "    .dataframe thead th {\n",
       "        text-align: right;\n",
       "    }\n",
       "</style>\n",
       "<table border=\"1\" class=\"dataframe\">\n",
       "  <thead>\n",
       "    <tr style=\"text-align: right;\">\n",
       "      <th></th>\n",
       "      <th>id_registro</th>\n",
       "      <th>id_sistema</th>\n",
       "      <th>id_maquina</th>\n",
       "      <th>timestamp_registro</th>\n",
       "      <th>vl_temperatura</th>\n",
       "      <th>vl_vibracao</th>\n",
       "      <th>vl_corrente</th>\n",
       "    </tr>\n",
       "  </thead>\n",
       "  <tbody>\n",
       "    <tr>\n",
       "      <th>0</th>\n",
       "      <td>1</td>\n",
       "      <td>1</td>\n",
       "      <td>2</td>\n",
       "      <td>2025-08-01 03:00:00</td>\n",
       "      <td>89.095835</td>\n",
       "      <td>4.003522</td>\n",
       "      <td>145.049199</td>\n",
       "    </tr>\n",
       "  </tbody>\n",
       "</table>\n",
       "</div>"
      ],
      "text/plain": [
       "   id_registro  id_sistema  id_maquina  timestamp_registro  vl_temperatura  \\\n",
       "0            1           1           2 2025-08-01 03:00:00       89.095835   \n",
       "\n",
       "   vl_vibracao  vl_corrente  \n",
       "0     4.003522   145.049199  "
      ]
     },
     "metadata": {},
     "output_type": "display_data"
    }
   ],
   "source": [
    "def gerar_fatos(reg: int = 5000):\n",
    "    sistema = pd.read_sql('SELECT * FROM DM_SISTEMAS', conn)\n",
    "    maquinario = pd.read_sql('SELECT * FROM DM_MAQUINA', conn)\n",
    "    print(\"\\nIniciando a geração de dados para as Tabelas Fato...\")\n",
    "\n",
    "    # Extrai listas de IDs válidos das dimensões\n",
    "    ids_maquinas_validos = maquinario['ID_MAQUINA'].tolist()\n",
    "    ids_sistema_validos = sistema['ID_SISTEMA'].tolist()\n",
    "    print(ids_maquinas_validos, ids_sistema_validos)\n",
    "    # # --- Fato Registros de Sensores ---\n",
    "    registros = {\n",
    "        'id_registro': range(1, reg + 1),\n",
    "        'id_sistema': np.random.choice(ids_sistema_validos, reg),\n",
    "        'id_maquina': np.random.choice(ids_maquinas_validos, reg),\n",
    "        'timestamp_registro': pd.to_datetime(np.linspace(\n",
    "            datetime.datetime(2025, 8, 1).timestamp(),\n",
    "            datetime.datetime.now().timestamp(),\n",
    "            reg), unit='s'),\n",
    "        'vl_temperatura': np.random.normal(80, 15, reg),\n",
    "        'vl_vibracao': np.random.normal(4, 2, reg),\n",
    "        'vl_corrente': np.random.normal(150, 5, reg)\n",
    "    }\n",
    "    df_registros = pd.DataFrame(registros)\n",
    "\n",
    "    # df_registros = pd.DataFrame(registros)\n",
    "    return df_registros\n",
    "    # display(df_registros)\n",
    "df_fato = gerar_fatos(reg = 1)\n",
    "display(df_fato)\n",
    "# df_fato.to_excel(r'C:\\Users\\Davi\\Documents\\Projetos\\FIAP\\FASE 6\\Enterprise Challenge Fase 4\\docs\\estrutura de teste\\Dados_simulados.xlsx', index=False)"
   ]
  }
 ],
 "metadata": {
  "kernelspec": {
   "display_name": "Python 3",
   "language": "python",
   "name": "python3"
  },
  "language_info": {
   "codemirror_mode": {
    "name": "ipython",
    "version": 3
   },
   "file_extension": ".py",
   "mimetype": "text/x-python",
   "name": "python",
   "nbconvert_exporter": "python",
   "pygments_lexer": "ipython3",
   "version": "3.10.11"
  }
 },
 "nbformat": 4,
 "nbformat_minor": 5
}
